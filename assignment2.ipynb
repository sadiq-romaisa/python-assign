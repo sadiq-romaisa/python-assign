{
 "cells": [
  {
   "cell_type": "code",
   "execution_count": 3,
   "metadata": {},
   "outputs": [
    {
     "name": "stdout",
     "output_type": "stream",
     "text": [
      "Enter marks of the first subject: 84\n",
      "Enter marks of the second subject: 87\n",
      "Enter marks of the third subject: 45\n",
      "Enter marks of the fourth subject: 67\n",
      "Enter marks of the fifth subject: 68\n",
      "Grade: C\n"
     ]
    }
   ],
   "source": [
    "s1=int(input(\"Enter marks of the first subject: \"))\n",
    "s2=int(input(\"Enter marks of the second subject: \"))\n",
    "s3=int(input(\"Enter marks of the third subject: \"))\n",
    "s4=int(input(\"Enter marks of the fourth subject: \"))\n",
    "s5=int(input(\"Enter marks of the fifth subject: \"))\n",
    "avg=(s1+s2+s3+s4+s5)/5\n",
    "if(avg>=90):\n",
    "    print(\"Grade: A\")\n",
    "elif(avg>=80 and avg<90):\n",
    "    print(\"Grade: B\")\n",
    "elif(avg>=70 and avg<80):\n",
    "    print(\"Grade: C\")\n",
    "elif(avg>=60 and avg<70):\n",
    "    print(\"Grade: D\")\n",
    "else:\n",
    "    print(\"Grade: F\")"
   ]
  },
  {
   "cell_type": "code",
   "execution_count": 4,
   "metadata": {},
   "outputs": [
    {
     "name": "stdout",
     "output_type": "stream",
     "text": [
      "Enter a number: 5\n",
      "5 is Odd\n"
     ]
    }
   ],
   "source": [
    "#question2\n",
    "num = int(input(\"Enter a number: \"))\n",
    "if (num % 2) == 0:\n",
    "   print(\"{0} is Even\".format(num))\n",
    "else:\n",
    "   print(\"{0} is Odd\".format(num))"
   ]
  },
  {
   "cell_type": "code",
   "execution_count": 6,
   "metadata": {},
   "outputs": [
    {
     "name": "stdout",
     "output_type": "stream",
     "text": [
      "The length of list is:  8\n"
     ]
    }
   ],
   "source": [
    "#question3\n",
    "list = len([3,5,1,0,2,9,6,8]) \n",
    "print(\"The length of list is: \", list) "
   ]
  },
  {
   "cell_type": "code",
   "execution_count": 7,
   "metadata": {},
   "outputs": [
    {
     "name": "stdout",
     "output_type": "stream",
     "text": [
      "Sum of all elements in the list:  34\n"
     ]
    }
   ],
   "source": [
    "#question4\n",
    "list =[3,5,1,0,2,9,6,8] \n",
    "total = sum(list)  \n",
    "print(\"Sum of all elements in the list: \", total) "
   ]
  },
  {
   "cell_type": "code",
   "execution_count": 10,
   "metadata": {},
   "outputs": [
    {
     "name": "stdout",
     "output_type": "stream",
     "text": [
      "Largest element is: 89\n"
     ]
    }
   ],
   "source": [
    "#question5\n",
    "list = [1,1,2,3,5,8,13,21,34,55,89] \n",
    "print(\"Largest element is:\", max(list))"
   ]
  },
  {
   "cell_type": "code",
   "execution_count": null,
   "metadata": {},
   "outputs": [],
   "source": []
  },
  {
   "cell_type": "code",
   "execution_count": null,
   "metadata": {},
   "outputs": [],
   "source": []
  },
  {
   "cell_type": "code",
   "execution_count": 5,
   "metadata": {},
   "outputs": [
    {
     "name": "stdout",
     "output_type": "stream",
     "text": [
      "[1, 1, 2, 3]\n"
     ]
    }
   ],
   "source": [
    "#question6\n",
    "list = [1, 1, 2, 3, 5, 8, 13, 21, 34, 55, 89] \n",
    "\n",
    "def elements_lessthan_five(list):\n",
    "    l1=[]\n",
    "    for i in list:\n",
    "        if i<5:\n",
    "            l1.append(i)\n",
    "            \n",
    "    return(l1)\n",
    "    \n",
    "print(elements_lessthan_five([1, 1, 2, 3, 5, 8, 13, 21, 34, 55, 89]))"
   ]
  },
  {
   "cell_type": "code",
   "execution_count": null,
   "metadata": {},
   "outputs": [],
   "source": []
  }
 ],
 "metadata": {
  "kernelspec": {
   "display_name": "Python 3",
   "language": "python",
   "name": "python3"
  },
  "language_info": {
   "codemirror_mode": {
    "name": "ipython",
    "version": 3
   },
   "file_extension": ".py",
   "mimetype": "text/x-python",
   "name": "python",
   "nbconvert_exporter": "python",
   "pygments_lexer": "ipython3",
   "version": "3.7.4"
  }
 },
 "nbformat": 4,
 "nbformat_minor": 2
}
